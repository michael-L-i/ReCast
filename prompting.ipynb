{
  "nbformat": 4,
  "nbformat_minor": 0,
  "metadata": {
    "colab": {
      "provenance": []
    },
    "kernelspec": {
      "name": "python3",
      "display_name": "Python 3"
    },
    "language_info": {
      "name": "python"
    }
  },
  "cells": [
    {
      "cell_type": "code",
      "execution_count": 17,
      "metadata": {
        "id": "Facfff_uYFSr"
      },
      "outputs": [],
      "source": [
        "from google import genai\n",
        "from google.colab import userdata\n",
        "\n",
        "GOOGLE_API_KEY=userdata.get('GOOGLE_API_KEY')\n",
        "client = genai.Client(api_key=GOOGLE_API_KEY)"
      ]
    },
    {
      "cell_type": "code",
      "source": [
        "import time\n",
        "\n",
        "prompt = \"\"\"\n",
        "Describe the video in detail. Output your response in the following format:\n",
        "\n",
        "CHARACTERS DESCRIPTION\n",
        "\n",
        "- (Give appropriate name): {detailed description, including clothing, skin color, etc. Be SUPER descriptive}\n",
        "\n",
        "- (Give appropriate name): {detailed description, including clothing, skin color, etc. Be SUPER descriptive}\n",
        "\n",
        "SCENERY:\n",
        "\n",
        "{Describe the scenery}\n",
        "\n",
        "ACTION:\n",
        "\n",
        "{describe what happens in the video referencing characters by their name.\n",
        "Please try to describe the scene accurately. I need you be explicitly clear like a playwright. For example,\n",
        "separate actions on different lines, and be sure to indicate who says what.}\n",
        "\n",
        "Don't add any additional text. Just directly fill in the required information and sections.\n",
        "\"\"\"\n",
        "\n",
        "myfile = client.files.upload(file=\"/content/IMG_0889.mp4\")\n",
        "\n",
        "# Wait for the file to become active\n",
        "while myfile.state.name != 'ACTIVE':\n",
        "    time.sleep(10)  # Wait for 10 seconds before checking again\n",
        "    print(myfile.state.name)\n",
        "    myfile = client.files.get(name=myfile.name) # Get the updated file status\n",
        "\n",
        "response = client.models.generate_content(\n",
        "    model=\"gemini-2.5-pro\",\n",
        "    contents=[myfile, prompt]\n",
        ")"
      ],
      "metadata": {
        "colab": {
          "base_uri": "https://localhost:8080/"
        },
        "id": "Qu40OvnmZH-D",
        "outputId": "4cc30ad4-e1f4-4576-b089-fee4f536c3aa"
      },
      "execution_count": 34,
      "outputs": [
        {
          "output_type": "stream",
          "name": "stdout",
          "text": [
            "PROCESSING\n"
          ]
        }
      ]
    },
    {
      "cell_type": "code",
      "source": [
        "response.text"
      ],
      "metadata": {
        "colab": {
          "base_uri": "https://localhost:8080/",
          "height": 279
        },
        "id": "C27bc6ZTgbMZ",
        "outputId": "7baa71e2-4dd1-44fc-e726-1213f5a79879"
      },
      "execution_count": 35,
      "outputs": [
        {
          "output_type": "execute_result",
          "data": {
            "text/plain": [
              "'CHARACTERS DESCRIPTION\\n\\n- Leo: A young man of East Asian descent with a light complexion. He has short, black hair and wears thin, black-rimmed glasses. He is dressed in a black short-sleeved t-shirt with a white graphic print that says \"Jack Wolfskin\" and \"WE LIVE TO DISCOVER\" with a mountain and forest logo. He also wears black athletic pants.\\n\\n- Mia: A young woman of East Asian descent with a light complexion. Her dark hair is pulled back into a messy bun. She wears large, white, over-the-ear headphones on her head. She is wearing a mustard-yellow, collared, button-up jacket over a dark grey t-shirt.\\n\\nSCENERY:\\n\\nThe scene is set in a sunny, well-manicured backyard. The foreground features a patch of bright green artificial turf. Behind this, there is an area of light-colored gravel dotted with some small rocks. The background is dominated by a very large, mature tree with a thick, deeply grooved, dark brown trunk. The area is lushly landscaped with various green bushes and shrubs. A small, grey stone Japanese-style lantern sits amongst the bushes in the background. The lighting is bright and natural, casting distinct shadows.\\n\\nACTION:\\n\\nLeo stands on the artificial turf, holding a red soda can and smiling off-camera.\\n\\nLeo: (Smiling) Hi.\\n\\nMia walks into the frame from the right, wearing headphones, and stops in front of Leo.\\n\\nMia: Hi.\\n\\nMia points to the can in Leo\\'s hand.\\n\\nMia: What\\'s that?\\n\\nLeo: This is a Coke.\\n\\nMia takes the can from Leo\\'s hand. She turns to face the camera, holding the can, and smiles faintly before walking out of the frame to the right.\\n\\nLeo\\'s expression changes to one of mild annoyance.\\n\\nLeo: (Loudly) Hey, give it back to me!\\n\\nLeo quickly walks off-screen to the right, following Mia.'"
            ],
            "application/vnd.google.colaboratory.intrinsic+json": {
              "type": "string"
            }
          },
          "metadata": {},
          "execution_count": 35
        }
      ]
    },
    {
      "cell_type": "code",
      "source": [
        "user_input = \"I want the scene to be in the Sahara desert with cacti in the background\"\n",
        "\n",
        "edit_prompt = f\"\"\"\n",
        "This is the user prompt: {user_input}\n",
        "\n",
        "Edit this script based on the user input. Keep as much as possible the same.\n",
        "\n",
        "{response.text}\n",
        "\"\"\"\n",
        "\n",
        "edit_response = client.models.generate_content(\n",
        "    model=\"gemini-2.5-pro\",\n",
        "    contents=[edit_prompt]\n",
        ")"
      ],
      "metadata": {
        "id": "mKgElsamYKqu"
      },
      "execution_count": 32,
      "outputs": []
    },
    {
      "cell_type": "code",
      "source": [
        "edit_response.text"
      ],
      "metadata": {
        "colab": {
          "base_uri": "https://localhost:8080/",
          "height": 209
        },
        "id": "O8XcX_KXZfNG",
        "outputId": "3bf16646-8650-4b71-c698-a48064a20be6"
      },
      "execution_count": 33,
      "outputs": [
        {
          "output_type": "execute_result",
          "data": {
            "text/plain": [
              "'Here is the edited script with the requested changes.\\n\\nCHARACTERS DESCRIPTION\\n\\n- Jack: A young East Asian man with a slim build and fair skin. He has short black hair and wears black-framed glasses. He is dressed in a black short-sleeved t-shirt with a white \"Jack Wolfskin\" logo and graphic, and black athletic pants.\\n\\n- Yuki: A young East Asian woman with a slim build and fair skin. Her dark hair is tied up in a messy bun. She is wearing large white over-ear headphones, a tan button-up jacket over a grey graphic t-shirt.\\n\\nSCENERY:\\n\\nThe scene is set in the Sahara desert under a brilliant blue sky. Endless dunes of golden sand stretch to the horizon. In the background, a few resilient cacti stand against the stark landscape.\\n\\nACTION:\\n\\nJack stands on the sand, holding a red can and smiling.\\n\\nJack: \"Hi.\"\\n\\nYuki enters the frame from the right. She points at the can in Jack\\'s hand.\\n\\nYuki: \"What\\'s that?\"\\n\\nJack: \"This is a Coke.\"\\n\\nYuki takes the can from Jack\\'s hand. She turns toward the camera, holds the can up, and smiles.\\n\\nJack (looking at her): \"Hey, give it back to me.\"\\n\\nYuki walks off-screen to the right, taking the can with her. Jack remains, looking after her.'"
            ],
            "application/vnd.google.colaboratory.intrinsic+json": {
              "type": "string"
            }
          },
          "metadata": {},
          "execution_count": 33
        }
      ]
    }
  ]
}